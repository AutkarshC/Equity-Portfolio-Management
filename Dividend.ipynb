{
 "cells": [
  {
   "cell_type": "code",
   "execution_count": 2,
   "id": "ambient-occupation",
   "metadata": {},
   "outputs": [],
   "source": [
    "library(\"dplyr\")\n",
    "library(\"reshape2\")\n",
    "\n",
    "df_ibm = read.csv(\"IBM.csv\")\n",
    "df_msft = read.csv(\"MSFT.csv\")\n",
    "df_goog = read.csv(\"GOOG.csv\")\n",
    "df_appl = read.csv(\"AAPL.csv\")\n",
    "df_amzn = read.csv(\"AMZN.csv\")\n",
    "df_fb = read.csv(\"FB.csv\")"
   ]
  },
  {
   "cell_type": "code",
   "execution_count": 75,
   "id": "cardiovascular-amount",
   "metadata": {},
   "outputs": [
    {
     "data": {
      "text/html": [
       "<table class=\"dataframe\">\n",
       "<caption>A data.frame: 6 × 7</caption>\n",
       "<thead>\n",
       "\t<tr><th></th><th scope=col>Date</th><th scope=col>Open</th><th scope=col>High</th><th scope=col>Low</th><th scope=col>Close</th><th scope=col>Adj.Close</th><th scope=col>Volume</th></tr>\n",
       "\t<tr><th></th><th scope=col>&lt;fct&gt;</th><th scope=col>&lt;dbl&gt;</th><th scope=col>&lt;dbl&gt;</th><th scope=col>&lt;dbl&gt;</th><th scope=col>&lt;dbl&gt;</th><th scope=col>&lt;dbl&gt;</th><th scope=col>&lt;int&gt;</th></tr>\n",
       "</thead>\n",
       "<tbody>\n",
       "\t<tr><th scope=row>1</th><td>2018-01-02</td><td>154.50</td><td>154.81</td><td>153.54</td><td>154.25</td><td>133.8036</td><td>4202500</td></tr>\n",
       "\t<tr><th scope=row>2</th><td>2018-01-03</td><td>157.34</td><td>159.81</td><td>156.33</td><td>158.49</td><td>137.4815</td><td>9441600</td></tr>\n",
       "\t<tr><th scope=row>3</th><td>2018-01-04</td><td>159.65</td><td>162.32</td><td>159.37</td><td>161.70</td><td>140.2660</td><td>7556200</td></tr>\n",
       "\t<tr><th scope=row>4</th><td>2018-01-05</td><td>162.44</td><td>162.90</td><td>161.10</td><td>162.49</td><td>140.9513</td><td>5195800</td></tr>\n",
       "\t<tr><th scope=row>5</th><td>2018-01-08</td><td>162.66</td><td>163.91</td><td>161.70</td><td>163.47</td><td>141.8014</td><td>5237500</td></tr>\n",
       "\t<tr><th scope=row>6</th><td>2018-01-09</td><td>163.90</td><td>164.53</td><td>163.06</td><td>163.83</td><td>142.1137</td><td>4341800</td></tr>\n",
       "</tbody>\n",
       "</table>\n"
      ],
      "text/latex": [
       "A data.frame: 6 × 7\n",
       "\\begin{tabular}{r|lllllll}\n",
       "  & Date & Open & High & Low & Close & Adj.Close & Volume\\\\\n",
       "  & <fct> & <dbl> & <dbl> & <dbl> & <dbl> & <dbl> & <int>\\\\\n",
       "\\hline\n",
       "\t1 & 2018-01-02 & 154.50 & 154.81 & 153.54 & 154.25 & 133.8036 & 4202500\\\\\n",
       "\t2 & 2018-01-03 & 157.34 & 159.81 & 156.33 & 158.49 & 137.4815 & 9441600\\\\\n",
       "\t3 & 2018-01-04 & 159.65 & 162.32 & 159.37 & 161.70 & 140.2660 & 7556200\\\\\n",
       "\t4 & 2018-01-05 & 162.44 & 162.90 & 161.10 & 162.49 & 140.9513 & 5195800\\\\\n",
       "\t5 & 2018-01-08 & 162.66 & 163.91 & 161.70 & 163.47 & 141.8014 & 5237500\\\\\n",
       "\t6 & 2018-01-09 & 163.90 & 164.53 & 163.06 & 163.83 & 142.1137 & 4341800\\\\\n",
       "\\end{tabular}\n"
      ],
      "text/markdown": [
       "\n",
       "A data.frame: 6 × 7\n",
       "\n",
       "| <!--/--> | Date &lt;fct&gt; | Open &lt;dbl&gt; | High &lt;dbl&gt; | Low &lt;dbl&gt; | Close &lt;dbl&gt; | Adj.Close &lt;dbl&gt; | Volume &lt;int&gt; |\n",
       "|---|---|---|---|---|---|---|---|\n",
       "| 1 | 2018-01-02 | 154.50 | 154.81 | 153.54 | 154.25 | 133.8036 | 4202500 |\n",
       "| 2 | 2018-01-03 | 157.34 | 159.81 | 156.33 | 158.49 | 137.4815 | 9441600 |\n",
       "| 3 | 2018-01-04 | 159.65 | 162.32 | 159.37 | 161.70 | 140.2660 | 7556200 |\n",
       "| 4 | 2018-01-05 | 162.44 | 162.90 | 161.10 | 162.49 | 140.9513 | 5195800 |\n",
       "| 5 | 2018-01-08 | 162.66 | 163.91 | 161.70 | 163.47 | 141.8014 | 5237500 |\n",
       "| 6 | 2018-01-09 | 163.90 | 164.53 | 163.06 | 163.83 | 142.1137 | 4341800 |\n",
       "\n"
      ],
      "text/plain": [
       "  Date       Open   High   Low    Close  Adj.Close Volume \n",
       "1 2018-01-02 154.50 154.81 153.54 154.25 133.8036  4202500\n",
       "2 2018-01-03 157.34 159.81 156.33 158.49 137.4815  9441600\n",
       "3 2018-01-04 159.65 162.32 159.37 161.70 140.2660  7556200\n",
       "4 2018-01-05 162.44 162.90 161.10 162.49 140.9513  5195800\n",
       "5 2018-01-08 162.66 163.91 161.70 163.47 141.8014  5237500\n",
       "6 2018-01-09 163.90 164.53 163.06 163.83 142.1137  4341800"
      ]
     },
     "metadata": {},
     "output_type": "display_data"
    },
    {
     "data": {
      "text/html": [
       "<table class=\"dataframe\">\n",
       "<caption>A data.frame: 6 × 2</caption>\n",
       "<thead>\n",
       "\t<tr><th></th><th scope=col>Date</th><th scope=col>divident</th></tr>\n",
       "\t<tr><th></th><th scope=col>&lt;fct&gt;</th><th scope=col>&lt;dbl&gt;</th></tr>\n",
       "</thead>\n",
       "<tbody>\n",
       "\t<tr><th scope=row>1</th><td>2018-01-02</td><td>           NA</td></tr>\n",
       "\t<tr><th scope=row>2</th><td>2018-01-03</td><td> 1.476582e-05</td></tr>\n",
       "\t<tr><th scope=row>3</th><td>2018-01-04</td><td>-5.596542e-06</td></tr>\n",
       "\t<tr><th scope=row>4</th><td>2018-01-05</td><td> 2.735087e-06</td></tr>\n",
       "\t<tr><th scope=row>5</th><td>2018-01-08</td><td>-4.898088e-06</td></tr>\n",
       "\t<tr><th scope=row>6</th><td>2018-01-09</td><td> 1.205400e-05</td></tr>\n",
       "</tbody>\n",
       "</table>\n"
      ],
      "text/latex": [
       "A data.frame: 6 × 2\n",
       "\\begin{tabular}{r|ll}\n",
       "  & Date & divident\\\\\n",
       "  & <fct> & <dbl>\\\\\n",
       "\\hline\n",
       "\t1 & 2018-01-02 &            NA\\\\\n",
       "\t2 & 2018-01-03 &  1.476582e-05\\\\\n",
       "\t3 & 2018-01-04 & -5.596542e-06\\\\\n",
       "\t4 & 2018-01-05 &  2.735087e-06\\\\\n",
       "\t5 & 2018-01-08 & -4.898088e-06\\\\\n",
       "\t6 & 2018-01-09 &  1.205400e-05\\\\\n",
       "\\end{tabular}\n"
      ],
      "text/markdown": [
       "\n",
       "A data.frame: 6 × 2\n",
       "\n",
       "| <!--/--> | Date &lt;fct&gt; | divident &lt;dbl&gt; |\n",
       "|---|---|---|\n",
       "| 1 | 2018-01-02 |            NA |\n",
       "| 2 | 2018-01-03 |  1.476582e-05 |\n",
       "| 3 | 2018-01-04 | -5.596542e-06 |\n",
       "| 4 | 2018-01-05 |  2.735087e-06 |\n",
       "| 5 | 2018-01-08 | -4.898088e-06 |\n",
       "| 6 | 2018-01-09 |  1.205400e-05 |\n",
       "\n"
      ],
      "text/plain": [
       "  Date       divident     \n",
       "1 2018-01-02            NA\n",
       "2 2018-01-03  1.476582e-05\n",
       "3 2018-01-04 -5.596542e-06\n",
       "4 2018-01-05  2.735087e-06\n",
       "5 2018-01-08 -4.898088e-06\n",
       "6 2018-01-09  1.205400e-05"
      ]
     },
     "metadata": {},
     "output_type": "display_data"
    }
   ],
   "source": [
    "head(df_ibm)\n",
    "result_df_ibm = df_ibm%>%\n",
    "mutate(ratio_Close = lag(Close)/Close, ratio_Adj.Close = lag(Adj.Close)/Adj.Close) %>%\n",
    "mutate(difference = ratio_Adj.Close - ratio_Close) %>%\n",
    "mutate(divident = difference * Close) %>%\n",
    "select(Date, divident)\n",
    "head(result_df_ibm)"
   ]
  },
  {
   "cell_type": "code",
   "execution_count": 76,
   "id": "operating-phone",
   "metadata": {},
   "outputs": [
    {
     "data": {
      "text/html": [
       "<table class=\"dataframe\">\n",
       "<caption>A data.frame: 6 × 7</caption>\n",
       "<thead>\n",
       "\t<tr><th></th><th scope=col>Date</th><th scope=col>Open</th><th scope=col>High</th><th scope=col>Low</th><th scope=col>Close</th><th scope=col>Adj.Close</th><th scope=col>Volume</th></tr>\n",
       "\t<tr><th></th><th scope=col>&lt;fct&gt;</th><th scope=col>&lt;dbl&gt;</th><th scope=col>&lt;dbl&gt;</th><th scope=col>&lt;dbl&gt;</th><th scope=col>&lt;dbl&gt;</th><th scope=col>&lt;dbl&gt;</th><th scope=col>&lt;int&gt;</th></tr>\n",
       "</thead>\n",
       "<tbody>\n",
       "\t<tr><th scope=row>1</th><td>2018-01-02</td><td>86.13</td><td>86.31</td><td>85.50</td><td>85.95</td><td>82.38364</td><td>22483800</td></tr>\n",
       "\t<tr><th scope=row>2</th><td>2018-01-03</td><td>86.06</td><td>86.51</td><td>85.97</td><td>86.35</td><td>82.76704</td><td>26061400</td></tr>\n",
       "\t<tr><th scope=row>3</th><td>2018-01-04</td><td>86.59</td><td>87.66</td><td>86.57</td><td>87.11</td><td>83.49552</td><td>21912000</td></tr>\n",
       "\t<tr><th scope=row>4</th><td>2018-01-05</td><td>87.66</td><td>88.41</td><td>87.43</td><td>88.19</td><td>84.53070</td><td>23407100</td></tr>\n",
       "\t<tr><th scope=row>5</th><td>2018-01-08</td><td>88.20</td><td>88.58</td><td>87.60</td><td>88.28</td><td>84.61697</td><td>22113000</td></tr>\n",
       "\t<tr><th scope=row>6</th><td>2018-01-09</td><td>88.65</td><td>88.73</td><td>87.86</td><td>88.22</td><td>84.55946</td><td>19484300</td></tr>\n",
       "</tbody>\n",
       "</table>\n"
      ],
      "text/latex": [
       "A data.frame: 6 × 7\n",
       "\\begin{tabular}{r|lllllll}\n",
       "  & Date & Open & High & Low & Close & Adj.Close & Volume\\\\\n",
       "  & <fct> & <dbl> & <dbl> & <dbl> & <dbl> & <dbl> & <int>\\\\\n",
       "\\hline\n",
       "\t1 & 2018-01-02 & 86.13 & 86.31 & 85.50 & 85.95 & 82.38364 & 22483800\\\\\n",
       "\t2 & 2018-01-03 & 86.06 & 86.51 & 85.97 & 86.35 & 82.76704 & 26061400\\\\\n",
       "\t3 & 2018-01-04 & 86.59 & 87.66 & 86.57 & 87.11 & 83.49552 & 21912000\\\\\n",
       "\t4 & 2018-01-05 & 87.66 & 88.41 & 87.43 & 88.19 & 84.53070 & 23407100\\\\\n",
       "\t5 & 2018-01-08 & 88.20 & 88.58 & 87.60 & 88.28 & 84.61697 & 22113000\\\\\n",
       "\t6 & 2018-01-09 & 88.65 & 88.73 & 87.86 & 88.22 & 84.55946 & 19484300\\\\\n",
       "\\end{tabular}\n"
      ],
      "text/markdown": [
       "\n",
       "A data.frame: 6 × 7\n",
       "\n",
       "| <!--/--> | Date &lt;fct&gt; | Open &lt;dbl&gt; | High &lt;dbl&gt; | Low &lt;dbl&gt; | Close &lt;dbl&gt; | Adj.Close &lt;dbl&gt; | Volume &lt;int&gt; |\n",
       "|---|---|---|---|---|---|---|---|\n",
       "| 1 | 2018-01-02 | 86.13 | 86.31 | 85.50 | 85.95 | 82.38364 | 22483800 |\n",
       "| 2 | 2018-01-03 | 86.06 | 86.51 | 85.97 | 86.35 | 82.76704 | 26061400 |\n",
       "| 3 | 2018-01-04 | 86.59 | 87.66 | 86.57 | 87.11 | 83.49552 | 21912000 |\n",
       "| 4 | 2018-01-05 | 87.66 | 88.41 | 87.43 | 88.19 | 84.53070 | 23407100 |\n",
       "| 5 | 2018-01-08 | 88.20 | 88.58 | 87.60 | 88.28 | 84.61697 | 22113000 |\n",
       "| 6 | 2018-01-09 | 88.65 | 88.73 | 87.86 | 88.22 | 84.55946 | 19484300 |\n",
       "\n"
      ],
      "text/plain": [
       "  Date       Open  High  Low   Close Adj.Close Volume  \n",
       "1 2018-01-02 86.13 86.31 85.50 85.95 82.38364  22483800\n",
       "2 2018-01-03 86.06 86.51 85.97 86.35 82.76704  26061400\n",
       "3 2018-01-04 86.59 87.66 86.57 87.11 83.49552  21912000\n",
       "4 2018-01-05 87.66 88.41 87.43 88.19 84.53070  23407100\n",
       "5 2018-01-08 88.20 88.58 87.60 88.28 84.61697  22113000\n",
       "6 2018-01-09 88.65 88.73 87.86 88.22 84.55946  19484300"
      ]
     },
     "metadata": {},
     "output_type": "display_data"
    },
    {
     "data": {
      "text/html": [
       "<table class=\"dataframe\">\n",
       "<caption>A data.frame: 6 × 2</caption>\n",
       "<thead>\n",
       "\t<tr><th></th><th scope=col>Date</th><th scope=col>divident</th></tr>\n",
       "\t<tr><th></th><th scope=col>&lt;fct&gt;</th><th scope=col>&lt;dbl&gt;</th></tr>\n",
       "</thead>\n",
       "<tbody>\n",
       "\t<tr><th scope=row>1</th><td>2018-01-02</td><td>           NA</td></tr>\n",
       "\t<tr><th scope=row>2</th><td>2018-01-03</td><td>-4.587166e-06</td></tr>\n",
       "\t<tr><th scope=row>3</th><td>2018-01-04</td><td>-1.044489e-05</td></tr>\n",
       "\t<tr><th scope=row>4</th><td>2018-01-05</td><td> 9.505781e-06</td></tr>\n",
       "\t<tr><th scope=row>5</th><td>2018-01-08</td><td>-2.375701e-06</td></tr>\n",
       "\t<tr><th scope=row>6</th><td>2018-01-09</td><td> 1.584878e-06</td></tr>\n",
       "</tbody>\n",
       "</table>\n"
      ],
      "text/latex": [
       "A data.frame: 6 × 2\n",
       "\\begin{tabular}{r|ll}\n",
       "  & Date & divident\\\\\n",
       "  & <fct> & <dbl>\\\\\n",
       "\\hline\n",
       "\t1 & 2018-01-02 &            NA\\\\\n",
       "\t2 & 2018-01-03 & -4.587166e-06\\\\\n",
       "\t3 & 2018-01-04 & -1.044489e-05\\\\\n",
       "\t4 & 2018-01-05 &  9.505781e-06\\\\\n",
       "\t5 & 2018-01-08 & -2.375701e-06\\\\\n",
       "\t6 & 2018-01-09 &  1.584878e-06\\\\\n",
       "\\end{tabular}\n"
      ],
      "text/markdown": [
       "\n",
       "A data.frame: 6 × 2\n",
       "\n",
       "| <!--/--> | Date &lt;fct&gt; | divident &lt;dbl&gt; |\n",
       "|---|---|---|\n",
       "| 1 | 2018-01-02 |            NA |\n",
       "| 2 | 2018-01-03 | -4.587166e-06 |\n",
       "| 3 | 2018-01-04 | -1.044489e-05 |\n",
       "| 4 | 2018-01-05 |  9.505781e-06 |\n",
       "| 5 | 2018-01-08 | -2.375701e-06 |\n",
       "| 6 | 2018-01-09 |  1.584878e-06 |\n",
       "\n"
      ],
      "text/plain": [
       "  Date       divident     \n",
       "1 2018-01-02            NA\n",
       "2 2018-01-03 -4.587166e-06\n",
       "3 2018-01-04 -1.044489e-05\n",
       "4 2018-01-05  9.505781e-06\n",
       "5 2018-01-08 -2.375701e-06\n",
       "6 2018-01-09  1.584878e-06"
      ]
     },
     "metadata": {},
     "output_type": "display_data"
    }
   ],
   "source": [
    "head(df_msft)\n",
    "result_df_msft = df_msft%>%\n",
    "mutate(ratio_Close = lag(Close)/Close, ratio_Adj.Close = lag(Adj.Close)/Adj.Close) %>%\n",
    "mutate(difference = ratio_Adj.Close - ratio_Close) %>%\n",
    "mutate(divident = difference * Close) %>%\n",
    "select(Date, divident)\n",
    "head(result_df_msft)"
   ]
  },
  {
   "cell_type": "code",
   "execution_count": 77,
   "id": "crucial-rwanda",
   "metadata": {},
   "outputs": [
    {
     "data": {
      "text/html": [
       "<table class=\"dataframe\">\n",
       "<caption>A data.frame: 6 × 7</caption>\n",
       "<thead>\n",
       "\t<tr><th></th><th scope=col>Date</th><th scope=col>Open</th><th scope=col>High</th><th scope=col>Low</th><th scope=col>Close</th><th scope=col>Adj.Close</th><th scope=col>Volume</th></tr>\n",
       "\t<tr><th></th><th scope=col>&lt;fct&gt;</th><th scope=col>&lt;dbl&gt;</th><th scope=col>&lt;dbl&gt;</th><th scope=col>&lt;dbl&gt;</th><th scope=col>&lt;dbl&gt;</th><th scope=col>&lt;dbl&gt;</th><th scope=col>&lt;int&gt;</th></tr>\n",
       "</thead>\n",
       "<tbody>\n",
       "\t<tr><th scope=row>1</th><td>2018-01-02</td><td>1048.34</td><td>1066.94</td><td>1045.230</td><td>1065.00</td><td>1065.00</td><td>1237600</td></tr>\n",
       "\t<tr><th scope=row>2</th><td>2018-01-03</td><td>1064.31</td><td>1086.29</td><td>1063.210</td><td>1082.48</td><td>1082.48</td><td>1430200</td></tr>\n",
       "\t<tr><th scope=row>3</th><td>2018-01-04</td><td>1088.00</td><td>1093.57</td><td>1084.002</td><td>1086.40</td><td>1086.40</td><td>1004600</td></tr>\n",
       "\t<tr><th scope=row>4</th><td>2018-01-05</td><td>1094.00</td><td>1104.25</td><td>1092.000</td><td>1102.23</td><td>1102.23</td><td>1279100</td></tr>\n",
       "\t<tr><th scope=row>5</th><td>2018-01-08</td><td>1102.23</td><td>1111.27</td><td>1101.620</td><td>1106.94</td><td>1106.94</td><td>1047600</td></tr>\n",
       "\t<tr><th scope=row>6</th><td>2018-01-09</td><td>1109.40</td><td>1110.57</td><td>1101.231</td><td>1106.26</td><td>1106.26</td><td> 902500</td></tr>\n",
       "</tbody>\n",
       "</table>\n"
      ],
      "text/latex": [
       "A data.frame: 6 × 7\n",
       "\\begin{tabular}{r|lllllll}\n",
       "  & Date & Open & High & Low & Close & Adj.Close & Volume\\\\\n",
       "  & <fct> & <dbl> & <dbl> & <dbl> & <dbl> & <dbl> & <int>\\\\\n",
       "\\hline\n",
       "\t1 & 2018-01-02 & 1048.34 & 1066.94 & 1045.230 & 1065.00 & 1065.00 & 1237600\\\\\n",
       "\t2 & 2018-01-03 & 1064.31 & 1086.29 & 1063.210 & 1082.48 & 1082.48 & 1430200\\\\\n",
       "\t3 & 2018-01-04 & 1088.00 & 1093.57 & 1084.002 & 1086.40 & 1086.40 & 1004600\\\\\n",
       "\t4 & 2018-01-05 & 1094.00 & 1104.25 & 1092.000 & 1102.23 & 1102.23 & 1279100\\\\\n",
       "\t5 & 2018-01-08 & 1102.23 & 1111.27 & 1101.620 & 1106.94 & 1106.94 & 1047600\\\\\n",
       "\t6 & 2018-01-09 & 1109.40 & 1110.57 & 1101.231 & 1106.26 & 1106.26 &  902500\\\\\n",
       "\\end{tabular}\n"
      ],
      "text/markdown": [
       "\n",
       "A data.frame: 6 × 7\n",
       "\n",
       "| <!--/--> | Date &lt;fct&gt; | Open &lt;dbl&gt; | High &lt;dbl&gt; | Low &lt;dbl&gt; | Close &lt;dbl&gt; | Adj.Close &lt;dbl&gt; | Volume &lt;int&gt; |\n",
       "|---|---|---|---|---|---|---|---|\n",
       "| 1 | 2018-01-02 | 1048.34 | 1066.94 | 1045.230 | 1065.00 | 1065.00 | 1237600 |\n",
       "| 2 | 2018-01-03 | 1064.31 | 1086.29 | 1063.210 | 1082.48 | 1082.48 | 1430200 |\n",
       "| 3 | 2018-01-04 | 1088.00 | 1093.57 | 1084.002 | 1086.40 | 1086.40 | 1004600 |\n",
       "| 4 | 2018-01-05 | 1094.00 | 1104.25 | 1092.000 | 1102.23 | 1102.23 | 1279100 |\n",
       "| 5 | 2018-01-08 | 1102.23 | 1111.27 | 1101.620 | 1106.94 | 1106.94 | 1047600 |\n",
       "| 6 | 2018-01-09 | 1109.40 | 1110.57 | 1101.231 | 1106.26 | 1106.26 |  902500 |\n",
       "\n"
      ],
      "text/plain": [
       "  Date       Open    High    Low      Close   Adj.Close Volume \n",
       "1 2018-01-02 1048.34 1066.94 1045.230 1065.00 1065.00   1237600\n",
       "2 2018-01-03 1064.31 1086.29 1063.210 1082.48 1082.48   1430200\n",
       "3 2018-01-04 1088.00 1093.57 1084.002 1086.40 1086.40   1004600\n",
       "4 2018-01-05 1094.00 1104.25 1092.000 1102.23 1102.23   1279100\n",
       "5 2018-01-08 1102.23 1111.27 1101.620 1106.94 1106.94   1047600\n",
       "6 2018-01-09 1109.40 1110.57 1101.231 1106.26 1106.26    902500"
      ]
     },
     "metadata": {},
     "output_type": "display_data"
    },
    {
     "data": {
      "text/html": [
       "<table class=\"dataframe\">\n",
       "<caption>A data.frame: 6 × 2</caption>\n",
       "<thead>\n",
       "\t<tr><th></th><th scope=col>Date</th><th scope=col>divident</th></tr>\n",
       "\t<tr><th></th><th scope=col>&lt;fct&gt;</th><th scope=col>&lt;dbl&gt;</th></tr>\n",
       "</thead>\n",
       "<tbody>\n",
       "\t<tr><th scope=row>1</th><td>2018-01-02</td><td>NA</td></tr>\n",
       "\t<tr><th scope=row>2</th><td>2018-01-03</td><td> 0</td></tr>\n",
       "\t<tr><th scope=row>3</th><td>2018-01-04</td><td> 0</td></tr>\n",
       "\t<tr><th scope=row>4</th><td>2018-01-05</td><td> 0</td></tr>\n",
       "\t<tr><th scope=row>5</th><td>2018-01-08</td><td> 0</td></tr>\n",
       "\t<tr><th scope=row>6</th><td>2018-01-09</td><td> 0</td></tr>\n",
       "</tbody>\n",
       "</table>\n"
      ],
      "text/latex": [
       "A data.frame: 6 × 2\n",
       "\\begin{tabular}{r|ll}\n",
       "  & Date & divident\\\\\n",
       "  & <fct> & <dbl>\\\\\n",
       "\\hline\n",
       "\t1 & 2018-01-02 & NA\\\\\n",
       "\t2 & 2018-01-03 &  0\\\\\n",
       "\t3 & 2018-01-04 &  0\\\\\n",
       "\t4 & 2018-01-05 &  0\\\\\n",
       "\t5 & 2018-01-08 &  0\\\\\n",
       "\t6 & 2018-01-09 &  0\\\\\n",
       "\\end{tabular}\n"
      ],
      "text/markdown": [
       "\n",
       "A data.frame: 6 × 2\n",
       "\n",
       "| <!--/--> | Date &lt;fct&gt; | divident &lt;dbl&gt; |\n",
       "|---|---|---|\n",
       "| 1 | 2018-01-02 | NA |\n",
       "| 2 | 2018-01-03 |  0 |\n",
       "| 3 | 2018-01-04 |  0 |\n",
       "| 4 | 2018-01-05 |  0 |\n",
       "| 5 | 2018-01-08 |  0 |\n",
       "| 6 | 2018-01-09 |  0 |\n",
       "\n"
      ],
      "text/plain": [
       "  Date       divident\n",
       "1 2018-01-02 NA      \n",
       "2 2018-01-03  0      \n",
       "3 2018-01-04  0      \n",
       "4 2018-01-05  0      \n",
       "5 2018-01-08  0      \n",
       "6 2018-01-09  0      "
      ]
     },
     "metadata": {},
     "output_type": "display_data"
    }
   ],
   "source": [
    "head(df_goog)\n",
    "result_df_goog = df_goog%>%\n",
    "mutate(ratio_Close = lag(Close)/Close, ratio_Adj.Close = lag(Adj.Close)/Adj.Close) %>%\n",
    "mutate(difference = ratio_Adj.Close - ratio_Close) %>%\n",
    "mutate(divident = difference * Close) %>%\n",
    "select(Date, divident)\n",
    "head(result_df_goog)"
   ]
  },
  {
   "cell_type": "code",
   "execution_count": 78,
   "id": "blessed-letters",
   "metadata": {},
   "outputs": [
    {
     "data": {
      "text/html": [
       "<table class=\"dataframe\">\n",
       "<caption>A data.frame: 6 × 7</caption>\n",
       "<thead>\n",
       "\t<tr><th></th><th scope=col>Date</th><th scope=col>Open</th><th scope=col>High</th><th scope=col>Low</th><th scope=col>Close</th><th scope=col>Adj.Close</th><th scope=col>Volume</th></tr>\n",
       "\t<tr><th></th><th scope=col>&lt;fct&gt;</th><th scope=col>&lt;dbl&gt;</th><th scope=col>&lt;dbl&gt;</th><th scope=col>&lt;dbl&gt;</th><th scope=col>&lt;dbl&gt;</th><th scope=col>&lt;dbl&gt;</th><th scope=col>&lt;int&gt;</th></tr>\n",
       "</thead>\n",
       "<tbody>\n",
       "\t<tr><th scope=row>1</th><td>2018-01-02</td><td>42.5400</td><td>43.0750</td><td>42.3150</td><td>43.0650</td><td>41.38024</td><td>102223600</td></tr>\n",
       "\t<tr><th scope=row>2</th><td>2018-01-03</td><td>43.1325</td><td>43.6375</td><td>42.9900</td><td>43.0575</td><td>41.37303</td><td>118071600</td></tr>\n",
       "\t<tr><th scope=row>3</th><td>2018-01-04</td><td>43.1350</td><td>43.3675</td><td>43.0200</td><td>43.2575</td><td>41.56522</td><td> 89738400</td></tr>\n",
       "\t<tr><th scope=row>4</th><td>2018-01-05</td><td>43.3600</td><td>43.8425</td><td>43.2625</td><td>43.7500</td><td>42.03845</td><td> 94640000</td></tr>\n",
       "\t<tr><th scope=row>5</th><td>2018-01-08</td><td>43.5875</td><td>43.9025</td><td>43.4825</td><td>43.5875</td><td>41.88231</td><td> 82271200</td></tr>\n",
       "\t<tr><th scope=row>6</th><td>2018-01-09</td><td>43.6375</td><td>43.7650</td><td>43.3525</td><td>43.5825</td><td>41.87751</td><td> 86336000</td></tr>\n",
       "</tbody>\n",
       "</table>\n"
      ],
      "text/latex": [
       "A data.frame: 6 × 7\n",
       "\\begin{tabular}{r|lllllll}\n",
       "  & Date & Open & High & Low & Close & Adj.Close & Volume\\\\\n",
       "  & <fct> & <dbl> & <dbl> & <dbl> & <dbl> & <dbl> & <int>\\\\\n",
       "\\hline\n",
       "\t1 & 2018-01-02 & 42.5400 & 43.0750 & 42.3150 & 43.0650 & 41.38024 & 102223600\\\\\n",
       "\t2 & 2018-01-03 & 43.1325 & 43.6375 & 42.9900 & 43.0575 & 41.37303 & 118071600\\\\\n",
       "\t3 & 2018-01-04 & 43.1350 & 43.3675 & 43.0200 & 43.2575 & 41.56522 &  89738400\\\\\n",
       "\t4 & 2018-01-05 & 43.3600 & 43.8425 & 43.2625 & 43.7500 & 42.03845 &  94640000\\\\\n",
       "\t5 & 2018-01-08 & 43.5875 & 43.9025 & 43.4825 & 43.5875 & 41.88231 &  82271200\\\\\n",
       "\t6 & 2018-01-09 & 43.6375 & 43.7650 & 43.3525 & 43.5825 & 41.87751 &  86336000\\\\\n",
       "\\end{tabular}\n"
      ],
      "text/markdown": [
       "\n",
       "A data.frame: 6 × 7\n",
       "\n",
       "| <!--/--> | Date &lt;fct&gt; | Open &lt;dbl&gt; | High &lt;dbl&gt; | Low &lt;dbl&gt; | Close &lt;dbl&gt; | Adj.Close &lt;dbl&gt; | Volume &lt;int&gt; |\n",
       "|---|---|---|---|---|---|---|---|\n",
       "| 1 | 2018-01-02 | 42.5400 | 43.0750 | 42.3150 | 43.0650 | 41.38024 | 102223600 |\n",
       "| 2 | 2018-01-03 | 43.1325 | 43.6375 | 42.9900 | 43.0575 | 41.37303 | 118071600 |\n",
       "| 3 | 2018-01-04 | 43.1350 | 43.3675 | 43.0200 | 43.2575 | 41.56522 |  89738400 |\n",
       "| 4 | 2018-01-05 | 43.3600 | 43.8425 | 43.2625 | 43.7500 | 42.03845 |  94640000 |\n",
       "| 5 | 2018-01-08 | 43.5875 | 43.9025 | 43.4825 | 43.5875 | 41.88231 |  82271200 |\n",
       "| 6 | 2018-01-09 | 43.6375 | 43.7650 | 43.3525 | 43.5825 | 41.87751 |  86336000 |\n",
       "\n"
      ],
      "text/plain": [
       "  Date       Open    High    Low     Close   Adj.Close Volume   \n",
       "1 2018-01-02 42.5400 43.0750 42.3150 43.0650 41.38024  102223600\n",
       "2 2018-01-03 43.1325 43.6375 42.9900 43.0575 41.37303  118071600\n",
       "3 2018-01-04 43.1350 43.3675 43.0200 43.2575 41.56522   89738400\n",
       "4 2018-01-05 43.3600 43.8425 43.2625 43.7500 42.03845   94640000\n",
       "5 2018-01-08 43.5875 43.9025 43.4825 43.5875 41.88231   82271200\n",
       "6 2018-01-09 43.6375 43.7650 43.3525 43.5825 41.87751   86336000"
      ]
     },
     "metadata": {},
     "output_type": "display_data"
    },
    {
     "data": {
      "text/html": [
       "<table class=\"dataframe\">\n",
       "<caption>A data.frame: 6 × 2</caption>\n",
       "<thead>\n",
       "\t<tr><th></th><th scope=col>Date</th><th scope=col>divident</th></tr>\n",
       "\t<tr><th></th><th scope=col>&lt;fct&gt;</th><th scope=col>&lt;dbl&gt;</th></tr>\n",
       "</thead>\n",
       "<tbody>\n",
       "\t<tr><th scope=row>1</th><td>2018-01-02</td><td>           NA</td></tr>\n",
       "\t<tr><th scope=row>2</th><td>2018-01-03</td><td>-6.139798e-07</td></tr>\n",
       "\t<tr><th scope=row>3</th><td>2018-01-04</td><td>-7.569184e-06</td></tr>\n",
       "\t<tr><th scope=row>4</th><td>2018-01-05</td><td>-3.268198e-06</td></tr>\n",
       "\t<tr><th scope=row>5</th><td>2018-01-08</td><td> 6.372068e-06</td></tr>\n",
       "\t<tr><th scope=row>6</th><td>2018-01-09</td><td>-7.614291e-06</td></tr>\n",
       "</tbody>\n",
       "</table>\n"
      ],
      "text/latex": [
       "A data.frame: 6 × 2\n",
       "\\begin{tabular}{r|ll}\n",
       "  & Date & divident\\\\\n",
       "  & <fct> & <dbl>\\\\\n",
       "\\hline\n",
       "\t1 & 2018-01-02 &            NA\\\\\n",
       "\t2 & 2018-01-03 & -6.139798e-07\\\\\n",
       "\t3 & 2018-01-04 & -7.569184e-06\\\\\n",
       "\t4 & 2018-01-05 & -3.268198e-06\\\\\n",
       "\t5 & 2018-01-08 &  6.372068e-06\\\\\n",
       "\t6 & 2018-01-09 & -7.614291e-06\\\\\n",
       "\\end{tabular}\n"
      ],
      "text/markdown": [
       "\n",
       "A data.frame: 6 × 2\n",
       "\n",
       "| <!--/--> | Date &lt;fct&gt; | divident &lt;dbl&gt; |\n",
       "|---|---|---|\n",
       "| 1 | 2018-01-02 |            NA |\n",
       "| 2 | 2018-01-03 | -6.139798e-07 |\n",
       "| 3 | 2018-01-04 | -7.569184e-06 |\n",
       "| 4 | 2018-01-05 | -3.268198e-06 |\n",
       "| 5 | 2018-01-08 |  6.372068e-06 |\n",
       "| 6 | 2018-01-09 | -7.614291e-06 |\n",
       "\n"
      ],
      "text/plain": [
       "  Date       divident     \n",
       "1 2018-01-02            NA\n",
       "2 2018-01-03 -6.139798e-07\n",
       "3 2018-01-04 -7.569184e-06\n",
       "4 2018-01-05 -3.268198e-06\n",
       "5 2018-01-08  6.372068e-06\n",
       "6 2018-01-09 -7.614291e-06"
      ]
     },
     "metadata": {},
     "output_type": "display_data"
    }
   ],
   "source": [
    "head(df_appl)\n",
    "result_df_appl = df_appl%>%\n",
    "mutate(ratio_Close = lag(Close)/Close, ratio_Adj.Close = lag(Adj.Close)/Adj.Close) %>%\n",
    "mutate(difference = ratio_Adj.Close - ratio_Close) %>%\n",
    "mutate(divident = difference * Close) %>%\n",
    "select(Date, divident)\n",
    "head(result_df_appl)"
   ]
  },
  {
   "cell_type": "code",
   "execution_count": 79,
   "id": "bacterial-enclosure",
   "metadata": {},
   "outputs": [
    {
     "data": {
      "text/html": [
       "<table class=\"dataframe\">\n",
       "<caption>A data.frame: 6 × 7</caption>\n",
       "<thead>\n",
       "\t<tr><th></th><th scope=col>Date</th><th scope=col>Open</th><th scope=col>High</th><th scope=col>Low</th><th scope=col>Close</th><th scope=col>Adj.Close</th><th scope=col>Volume</th></tr>\n",
       "\t<tr><th></th><th scope=col>&lt;fct&gt;</th><th scope=col>&lt;dbl&gt;</th><th scope=col>&lt;dbl&gt;</th><th scope=col>&lt;dbl&gt;</th><th scope=col>&lt;dbl&gt;</th><th scope=col>&lt;dbl&gt;</th><th scope=col>&lt;int&gt;</th></tr>\n",
       "</thead>\n",
       "<tbody>\n",
       "\t<tr><th scope=row>1</th><td>2018-01-02</td><td>1172.00</td><td>1190.00</td><td>1170.51</td><td>1189.01</td><td>1189.01</td><td>2694500</td></tr>\n",
       "\t<tr><th scope=row>2</th><td>2018-01-03</td><td>1188.30</td><td>1205.49</td><td>1188.30</td><td>1204.20</td><td>1204.20</td><td>3108800</td></tr>\n",
       "\t<tr><th scope=row>3</th><td>2018-01-04</td><td>1205.00</td><td>1215.87</td><td>1204.66</td><td>1209.59</td><td>1209.59</td><td>3022100</td></tr>\n",
       "\t<tr><th scope=row>4</th><td>2018-01-05</td><td>1217.51</td><td>1229.14</td><td>1210.00</td><td>1229.14</td><td>1229.14</td><td>3544700</td></tr>\n",
       "\t<tr><th scope=row>5</th><td>2018-01-08</td><td>1236.00</td><td>1253.08</td><td>1232.03</td><td>1246.87</td><td>1246.87</td><td>4279500</td></tr>\n",
       "\t<tr><th scope=row>6</th><td>2018-01-09</td><td>1256.90</td><td>1259.33</td><td>1241.76</td><td>1252.70</td><td>1252.70</td><td>3661300</td></tr>\n",
       "</tbody>\n",
       "</table>\n"
      ],
      "text/latex": [
       "A data.frame: 6 × 7\n",
       "\\begin{tabular}{r|lllllll}\n",
       "  & Date & Open & High & Low & Close & Adj.Close & Volume\\\\\n",
       "  & <fct> & <dbl> & <dbl> & <dbl> & <dbl> & <dbl> & <int>\\\\\n",
       "\\hline\n",
       "\t1 & 2018-01-02 & 1172.00 & 1190.00 & 1170.51 & 1189.01 & 1189.01 & 2694500\\\\\n",
       "\t2 & 2018-01-03 & 1188.30 & 1205.49 & 1188.30 & 1204.20 & 1204.20 & 3108800\\\\\n",
       "\t3 & 2018-01-04 & 1205.00 & 1215.87 & 1204.66 & 1209.59 & 1209.59 & 3022100\\\\\n",
       "\t4 & 2018-01-05 & 1217.51 & 1229.14 & 1210.00 & 1229.14 & 1229.14 & 3544700\\\\\n",
       "\t5 & 2018-01-08 & 1236.00 & 1253.08 & 1232.03 & 1246.87 & 1246.87 & 4279500\\\\\n",
       "\t6 & 2018-01-09 & 1256.90 & 1259.33 & 1241.76 & 1252.70 & 1252.70 & 3661300\\\\\n",
       "\\end{tabular}\n"
      ],
      "text/markdown": [
       "\n",
       "A data.frame: 6 × 7\n",
       "\n",
       "| <!--/--> | Date &lt;fct&gt; | Open &lt;dbl&gt; | High &lt;dbl&gt; | Low &lt;dbl&gt; | Close &lt;dbl&gt; | Adj.Close &lt;dbl&gt; | Volume &lt;int&gt; |\n",
       "|---|---|---|---|---|---|---|---|\n",
       "| 1 | 2018-01-02 | 1172.00 | 1190.00 | 1170.51 | 1189.01 | 1189.01 | 2694500 |\n",
       "| 2 | 2018-01-03 | 1188.30 | 1205.49 | 1188.30 | 1204.20 | 1204.20 | 3108800 |\n",
       "| 3 | 2018-01-04 | 1205.00 | 1215.87 | 1204.66 | 1209.59 | 1209.59 | 3022100 |\n",
       "| 4 | 2018-01-05 | 1217.51 | 1229.14 | 1210.00 | 1229.14 | 1229.14 | 3544700 |\n",
       "| 5 | 2018-01-08 | 1236.00 | 1253.08 | 1232.03 | 1246.87 | 1246.87 | 4279500 |\n",
       "| 6 | 2018-01-09 | 1256.90 | 1259.33 | 1241.76 | 1252.70 | 1252.70 | 3661300 |\n",
       "\n"
      ],
      "text/plain": [
       "  Date       Open    High    Low     Close   Adj.Close Volume \n",
       "1 2018-01-02 1172.00 1190.00 1170.51 1189.01 1189.01   2694500\n",
       "2 2018-01-03 1188.30 1205.49 1188.30 1204.20 1204.20   3108800\n",
       "3 2018-01-04 1205.00 1215.87 1204.66 1209.59 1209.59   3022100\n",
       "4 2018-01-05 1217.51 1229.14 1210.00 1229.14 1229.14   3544700\n",
       "5 2018-01-08 1236.00 1253.08 1232.03 1246.87 1246.87   4279500\n",
       "6 2018-01-09 1256.90 1259.33 1241.76 1252.70 1252.70   3661300"
      ]
     },
     "metadata": {},
     "output_type": "display_data"
    },
    {
     "data": {
      "text/html": [
       "<table class=\"dataframe\">\n",
       "<caption>A data.frame: 6 × 2</caption>\n",
       "<thead>\n",
       "\t<tr><th></th><th scope=col>Date</th><th scope=col>divident</th></tr>\n",
       "\t<tr><th></th><th scope=col>&lt;fct&gt;</th><th scope=col>&lt;dbl&gt;</th></tr>\n",
       "</thead>\n",
       "<tbody>\n",
       "\t<tr><th scope=row>1</th><td>2018-01-02</td><td>NA</td></tr>\n",
       "\t<tr><th scope=row>2</th><td>2018-01-03</td><td> 0</td></tr>\n",
       "\t<tr><th scope=row>3</th><td>2018-01-04</td><td> 0</td></tr>\n",
       "\t<tr><th scope=row>4</th><td>2018-01-05</td><td> 0</td></tr>\n",
       "\t<tr><th scope=row>5</th><td>2018-01-08</td><td> 0</td></tr>\n",
       "\t<tr><th scope=row>6</th><td>2018-01-09</td><td> 0</td></tr>\n",
       "</tbody>\n",
       "</table>\n"
      ],
      "text/latex": [
       "A data.frame: 6 × 2\n",
       "\\begin{tabular}{r|ll}\n",
       "  & Date & divident\\\\\n",
       "  & <fct> & <dbl>\\\\\n",
       "\\hline\n",
       "\t1 & 2018-01-02 & NA\\\\\n",
       "\t2 & 2018-01-03 &  0\\\\\n",
       "\t3 & 2018-01-04 &  0\\\\\n",
       "\t4 & 2018-01-05 &  0\\\\\n",
       "\t5 & 2018-01-08 &  0\\\\\n",
       "\t6 & 2018-01-09 &  0\\\\\n",
       "\\end{tabular}\n"
      ],
      "text/markdown": [
       "\n",
       "A data.frame: 6 × 2\n",
       "\n",
       "| <!--/--> | Date &lt;fct&gt; | divident &lt;dbl&gt; |\n",
       "|---|---|---|\n",
       "| 1 | 2018-01-02 | NA |\n",
       "| 2 | 2018-01-03 |  0 |\n",
       "| 3 | 2018-01-04 |  0 |\n",
       "| 4 | 2018-01-05 |  0 |\n",
       "| 5 | 2018-01-08 |  0 |\n",
       "| 6 | 2018-01-09 |  0 |\n",
       "\n"
      ],
      "text/plain": [
       "  Date       divident\n",
       "1 2018-01-02 NA      \n",
       "2 2018-01-03  0      \n",
       "3 2018-01-04  0      \n",
       "4 2018-01-05  0      \n",
       "5 2018-01-08  0      \n",
       "6 2018-01-09  0      "
      ]
     },
     "metadata": {},
     "output_type": "display_data"
    }
   ],
   "source": [
    "head(df_amzn)\n",
    "result_df_amzn = df_amzn%>%\n",
    "mutate(ratio_Close = lag(Close)/Close, ratio_Adj.Close = lag(Adj.Close)/Adj.Close) %>%\n",
    "mutate(difference = ratio_Adj.Close - ratio_Close) %>%\n",
    "mutate(divident = difference * Close) %>%\n",
    "select(Date, divident)\n",
    "head(result_df_amzn)"
   ]
  },
  {
   "cell_type": "code",
   "execution_count": 80,
   "id": "stuck-perception",
   "metadata": {},
   "outputs": [
    {
     "data": {
      "text/html": [
       "<table class=\"dataframe\">\n",
       "<caption>A data.frame: 6 × 7</caption>\n",
       "<thead>\n",
       "\t<tr><th></th><th scope=col>Date</th><th scope=col>Open</th><th scope=col>High</th><th scope=col>Low</th><th scope=col>Close</th><th scope=col>Adj.Close</th><th scope=col>Volume</th></tr>\n",
       "\t<tr><th></th><th scope=col>&lt;fct&gt;</th><th scope=col>&lt;dbl&gt;</th><th scope=col>&lt;dbl&gt;</th><th scope=col>&lt;dbl&gt;</th><th scope=col>&lt;dbl&gt;</th><th scope=col>&lt;dbl&gt;</th><th scope=col>&lt;int&gt;</th></tr>\n",
       "</thead>\n",
       "<tbody>\n",
       "\t<tr><th scope=row>1</th><td>2018-01-02</td><td>177.68</td><td>181.58</td><td>177.55</td><td>181.42</td><td>181.42</td><td>18151900</td></tr>\n",
       "\t<tr><th scope=row>2</th><td>2018-01-03</td><td>181.88</td><td>184.78</td><td>181.33</td><td>184.67</td><td>184.67</td><td>16886600</td></tr>\n",
       "\t<tr><th scope=row>3</th><td>2018-01-04</td><td>184.90</td><td>186.21</td><td>184.10</td><td>184.33</td><td>184.33</td><td>13880900</td></tr>\n",
       "\t<tr><th scope=row>4</th><td>2018-01-05</td><td>185.59</td><td>186.90</td><td>184.93</td><td>186.85</td><td>186.85</td><td>13574500</td></tr>\n",
       "\t<tr><th scope=row>5</th><td>2018-01-08</td><td>187.20</td><td>188.90</td><td>186.33</td><td>188.28</td><td>188.28</td><td>17994700</td></tr>\n",
       "\t<tr><th scope=row>6</th><td>2018-01-09</td><td>188.70</td><td>188.80</td><td>187.10</td><td>187.87</td><td>187.87</td><td>12393100</td></tr>\n",
       "</tbody>\n",
       "</table>\n"
      ],
      "text/latex": [
       "A data.frame: 6 × 7\n",
       "\\begin{tabular}{r|lllllll}\n",
       "  & Date & Open & High & Low & Close & Adj.Close & Volume\\\\\n",
       "  & <fct> & <dbl> & <dbl> & <dbl> & <dbl> & <dbl> & <int>\\\\\n",
       "\\hline\n",
       "\t1 & 2018-01-02 & 177.68 & 181.58 & 177.55 & 181.42 & 181.42 & 18151900\\\\\n",
       "\t2 & 2018-01-03 & 181.88 & 184.78 & 181.33 & 184.67 & 184.67 & 16886600\\\\\n",
       "\t3 & 2018-01-04 & 184.90 & 186.21 & 184.10 & 184.33 & 184.33 & 13880900\\\\\n",
       "\t4 & 2018-01-05 & 185.59 & 186.90 & 184.93 & 186.85 & 186.85 & 13574500\\\\\n",
       "\t5 & 2018-01-08 & 187.20 & 188.90 & 186.33 & 188.28 & 188.28 & 17994700\\\\\n",
       "\t6 & 2018-01-09 & 188.70 & 188.80 & 187.10 & 187.87 & 187.87 & 12393100\\\\\n",
       "\\end{tabular}\n"
      ],
      "text/markdown": [
       "\n",
       "A data.frame: 6 × 7\n",
       "\n",
       "| <!--/--> | Date &lt;fct&gt; | Open &lt;dbl&gt; | High &lt;dbl&gt; | Low &lt;dbl&gt; | Close &lt;dbl&gt; | Adj.Close &lt;dbl&gt; | Volume &lt;int&gt; |\n",
       "|---|---|---|---|---|---|---|---|\n",
       "| 1 | 2018-01-02 | 177.68 | 181.58 | 177.55 | 181.42 | 181.42 | 18151900 |\n",
       "| 2 | 2018-01-03 | 181.88 | 184.78 | 181.33 | 184.67 | 184.67 | 16886600 |\n",
       "| 3 | 2018-01-04 | 184.90 | 186.21 | 184.10 | 184.33 | 184.33 | 13880900 |\n",
       "| 4 | 2018-01-05 | 185.59 | 186.90 | 184.93 | 186.85 | 186.85 | 13574500 |\n",
       "| 5 | 2018-01-08 | 187.20 | 188.90 | 186.33 | 188.28 | 188.28 | 17994700 |\n",
       "| 6 | 2018-01-09 | 188.70 | 188.80 | 187.10 | 187.87 | 187.87 | 12393100 |\n",
       "\n"
      ],
      "text/plain": [
       "  Date       Open   High   Low    Close  Adj.Close Volume  \n",
       "1 2018-01-02 177.68 181.58 177.55 181.42 181.42    18151900\n",
       "2 2018-01-03 181.88 184.78 181.33 184.67 184.67    16886600\n",
       "3 2018-01-04 184.90 186.21 184.10 184.33 184.33    13880900\n",
       "4 2018-01-05 185.59 186.90 184.93 186.85 186.85    13574500\n",
       "5 2018-01-08 187.20 188.90 186.33 188.28 188.28    17994700\n",
       "6 2018-01-09 188.70 188.80 187.10 187.87 187.87    12393100"
      ]
     },
     "metadata": {},
     "output_type": "display_data"
    },
    {
     "data": {
      "text/html": [
       "<table class=\"dataframe\">\n",
       "<caption>A data.frame: 6 × 2</caption>\n",
       "<thead>\n",
       "\t<tr><th></th><th scope=col>Date</th><th scope=col>divident</th></tr>\n",
       "\t<tr><th></th><th scope=col>&lt;fct&gt;</th><th scope=col>&lt;dbl&gt;</th></tr>\n",
       "</thead>\n",
       "<tbody>\n",
       "\t<tr><th scope=row>1</th><td>2018-01-02</td><td>NA</td></tr>\n",
       "\t<tr><th scope=row>2</th><td>2018-01-03</td><td> 0</td></tr>\n",
       "\t<tr><th scope=row>3</th><td>2018-01-04</td><td> 0</td></tr>\n",
       "\t<tr><th scope=row>4</th><td>2018-01-05</td><td> 0</td></tr>\n",
       "\t<tr><th scope=row>5</th><td>2018-01-08</td><td> 0</td></tr>\n",
       "\t<tr><th scope=row>6</th><td>2018-01-09</td><td> 0</td></tr>\n",
       "</tbody>\n",
       "</table>\n"
      ],
      "text/latex": [
       "A data.frame: 6 × 2\n",
       "\\begin{tabular}{r|ll}\n",
       "  & Date & divident\\\\\n",
       "  & <fct> & <dbl>\\\\\n",
       "\\hline\n",
       "\t1 & 2018-01-02 & NA\\\\\n",
       "\t2 & 2018-01-03 &  0\\\\\n",
       "\t3 & 2018-01-04 &  0\\\\\n",
       "\t4 & 2018-01-05 &  0\\\\\n",
       "\t5 & 2018-01-08 &  0\\\\\n",
       "\t6 & 2018-01-09 &  0\\\\\n",
       "\\end{tabular}\n"
      ],
      "text/markdown": [
       "\n",
       "A data.frame: 6 × 2\n",
       "\n",
       "| <!--/--> | Date &lt;fct&gt; | divident &lt;dbl&gt; |\n",
       "|---|---|---|\n",
       "| 1 | 2018-01-02 | NA |\n",
       "| 2 | 2018-01-03 |  0 |\n",
       "| 3 | 2018-01-04 |  0 |\n",
       "| 4 | 2018-01-05 |  0 |\n",
       "| 5 | 2018-01-08 |  0 |\n",
       "| 6 | 2018-01-09 |  0 |\n",
       "\n"
      ],
      "text/plain": [
       "  Date       divident\n",
       "1 2018-01-02 NA      \n",
       "2 2018-01-03  0      \n",
       "3 2018-01-04  0      \n",
       "4 2018-01-05  0      \n",
       "5 2018-01-08  0      \n",
       "6 2018-01-09  0      "
      ]
     },
     "metadata": {},
     "output_type": "display_data"
    }
   ],
   "source": [
    "head(df_fb)\n",
    "result_df_fb = df_fb%>%\n",
    "mutate(ratio_Close = lag(Close)/Close, ratio_Adj.Close = lag(Adj.Close)/Adj.Close) %>%\n",
    "mutate(difference = ratio_Adj.Close - ratio_Close) %>%\n",
    "mutate(divident = difference * Close) %>%\n",
    "select(Date, divident)\n",
    "head(result_df_fb)"
   ]
  },
  {
   "cell_type": "code",
   "execution_count": null,
   "id": "stretch-patch",
   "metadata": {},
   "outputs": [],
   "source": []
  }
 ],
 "metadata": {
  "kernelspec": {
   "display_name": "R",
   "language": "R",
   "name": "ir"
  },
  "language_info": {
   "codemirror_mode": "r",
   "file_extension": ".r",
   "mimetype": "text/x-r-source",
   "name": "R",
   "pygments_lexer": "r",
   "version": "4.0.3"
  }
 },
 "nbformat": 4,
 "nbformat_minor": 5
}
